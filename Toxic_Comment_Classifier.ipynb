{
 "cells": [
  {
   "cell_type": "markdown",
   "metadata": {},
   "source": [
    "## Justin Sarenas 304675389\n",
    "## Henry Ho 304723723\n",
    "## Nikko De Guzman 302351054"
   ]
  },
  {
   "cell_type": "code",
   "execution_count": 1,
   "metadata": {
    "collapsed": true
   },
   "outputs": [],
   "source": [
    "import numpy as np\n",
    "import pandas as pd \n",
    "from sklearn.metrics import accuracy_score"
   ]
  },
  {
   "cell_type": "code",
   "execution_count": 2,
   "metadata": {
    "collapsed": true
   },
   "outputs": [],
   "source": [
    "train_df = pd.read_csv('train.csv')\n",
    "test_df = pd.read_csv('test.csv')"
   ]
  },
  {
   "cell_type": "code",
   "execution_count": 3,
   "metadata": {},
   "outputs": [
    {
     "data": {
      "text/html": [
       "<div>\n",
       "<style>\n",
       "    .dataframe thead tr:only-child th {\n",
       "        text-align: right;\n",
       "    }\n",
       "\n",
       "    .dataframe thead th {\n",
       "        text-align: left;\n",
       "    }\n",
       "\n",
       "    .dataframe tbody tr th {\n",
       "        vertical-align: top;\n",
       "    }\n",
       "</style>\n",
       "<table border=\"1\" class=\"dataframe\">\n",
       "  <thead>\n",
       "    <tr style=\"text-align: right;\">\n",
       "      <th></th>\n",
       "      <th>id</th>\n",
       "      <th>comment_text</th>\n",
       "      <th>toxic</th>\n",
       "      <th>severe_toxic</th>\n",
       "      <th>obscene</th>\n",
       "      <th>threat</th>\n",
       "      <th>insult</th>\n",
       "      <th>identity_hate</th>\n",
       "    </tr>\n",
       "  </thead>\n",
       "  <tbody>\n",
       "    <tr>\n",
       "      <th>0</th>\n",
       "      <td>0000997932d777bf</td>\n",
       "      <td>Explanation\\nWhy the edits made under my usern...</td>\n",
       "      <td>0</td>\n",
       "      <td>0</td>\n",
       "      <td>0</td>\n",
       "      <td>0</td>\n",
       "      <td>0</td>\n",
       "      <td>0</td>\n",
       "    </tr>\n",
       "    <tr>\n",
       "      <th>1</th>\n",
       "      <td>000103f0d9cfb60f</td>\n",
       "      <td>D'aww! He matches this background colour I'm s...</td>\n",
       "      <td>0</td>\n",
       "      <td>0</td>\n",
       "      <td>0</td>\n",
       "      <td>0</td>\n",
       "      <td>0</td>\n",
       "      <td>0</td>\n",
       "    </tr>\n",
       "    <tr>\n",
       "      <th>2</th>\n",
       "      <td>000113f07ec002fd</td>\n",
       "      <td>Hey man, I'm really not trying to edit war. It...</td>\n",
       "      <td>0</td>\n",
       "      <td>0</td>\n",
       "      <td>0</td>\n",
       "      <td>0</td>\n",
       "      <td>0</td>\n",
       "      <td>0</td>\n",
       "    </tr>\n",
       "    <tr>\n",
       "      <th>3</th>\n",
       "      <td>0001b41b1c6bb37e</td>\n",
       "      <td>\"\\nMore\\nI can't make any real suggestions on ...</td>\n",
       "      <td>0</td>\n",
       "      <td>0</td>\n",
       "      <td>0</td>\n",
       "      <td>0</td>\n",
       "      <td>0</td>\n",
       "      <td>0</td>\n",
       "    </tr>\n",
       "    <tr>\n",
       "      <th>4</th>\n",
       "      <td>0001d958c54c6e35</td>\n",
       "      <td>You, sir, are my hero. Any chance you remember...</td>\n",
       "      <td>0</td>\n",
       "      <td>0</td>\n",
       "      <td>0</td>\n",
       "      <td>0</td>\n",
       "      <td>0</td>\n",
       "      <td>0</td>\n",
       "    </tr>\n",
       "  </tbody>\n",
       "</table>\n",
       "</div>"
      ],
      "text/plain": [
       "                 id                                       comment_text  toxic  \\\n",
       "0  0000997932d777bf  Explanation\\nWhy the edits made under my usern...      0   \n",
       "1  000103f0d9cfb60f  D'aww! He matches this background colour I'm s...      0   \n",
       "2  000113f07ec002fd  Hey man, I'm really not trying to edit war. It...      0   \n",
       "3  0001b41b1c6bb37e  \"\\nMore\\nI can't make any real suggestions on ...      0   \n",
       "4  0001d958c54c6e35  You, sir, are my hero. Any chance you remember...      0   \n",
       "\n",
       "   severe_toxic  obscene  threat  insult  identity_hate  \n",
       "0             0        0       0       0              0  \n",
       "1             0        0       0       0              0  \n",
       "2             0        0       0       0              0  \n",
       "3             0        0       0       0              0  \n",
       "4             0        0       0       0              0  "
      ]
     },
     "execution_count": 3,
     "metadata": {},
     "output_type": "execute_result"
    }
   ],
   "source": [
    "train_df.head()\n"
   ]
  },
  {
   "cell_type": "code",
   "execution_count": 4,
   "metadata": {},
   "outputs": [
    {
     "data": {
      "text/html": [
       "<div>\n",
       "<style>\n",
       "    .dataframe thead tr:only-child th {\n",
       "        text-align: right;\n",
       "    }\n",
       "\n",
       "    .dataframe thead th {\n",
       "        text-align: left;\n",
       "    }\n",
       "\n",
       "    .dataframe tbody tr th {\n",
       "        vertical-align: top;\n",
       "    }\n",
       "</style>\n",
       "<table border=\"1\" class=\"dataframe\">\n",
       "  <thead>\n",
       "    <tr style=\"text-align: right;\">\n",
       "      <th></th>\n",
       "      <th>id</th>\n",
       "      <th>comment_text</th>\n",
       "    </tr>\n",
       "  </thead>\n",
       "  <tbody>\n",
       "    <tr>\n",
       "      <th>0</th>\n",
       "      <td>00001cee341fdb12</td>\n",
       "      <td>Yo bitch Ja Rule is more succesful then you'll...</td>\n",
       "    </tr>\n",
       "    <tr>\n",
       "      <th>1</th>\n",
       "      <td>0000247867823ef7</td>\n",
       "      <td>== From RfC == \\n\\n The title is fine as it is...</td>\n",
       "    </tr>\n",
       "    <tr>\n",
       "      <th>2</th>\n",
       "      <td>00013b17ad220c46</td>\n",
       "      <td>\" \\n\\n == Sources == \\n\\n * Zawe Ashton on Lap...</td>\n",
       "    </tr>\n",
       "    <tr>\n",
       "      <th>3</th>\n",
       "      <td>00017563c3f7919a</td>\n",
       "      <td>:If you have a look back at the source, the in...</td>\n",
       "    </tr>\n",
       "    <tr>\n",
       "      <th>4</th>\n",
       "      <td>00017695ad8997eb</td>\n",
       "      <td>I don't anonymously edit articles at all.</td>\n",
       "    </tr>\n",
       "  </tbody>\n",
       "</table>\n",
       "</div>"
      ],
      "text/plain": [
       "                 id                                       comment_text\n",
       "0  00001cee341fdb12  Yo bitch Ja Rule is more succesful then you'll...\n",
       "1  0000247867823ef7  == From RfC == \\n\\n The title is fine as it is...\n",
       "2  00013b17ad220c46  \" \\n\\n == Sources == \\n\\n * Zawe Ashton on Lap...\n",
       "3  00017563c3f7919a  :If you have a look back at the source, the in...\n",
       "4  00017695ad8997eb          I don't anonymously edit articles at all."
      ]
     },
     "execution_count": 4,
     "metadata": {},
     "output_type": "execute_result"
    }
   ],
   "source": [
    "test_df.head()"
   ]
  },
  {
   "cell_type": "code",
   "execution_count": 5,
   "metadata": {
    "collapsed": true
   },
   "outputs": [],
   "source": [
    "#filling empty comment texts with string empty as value\n",
    "train_df['comment_text'].fillna(\"empty\", inplace=True)\n",
    "test_df['comment_text'].fillna(\"empty\", inplace=True)\n"
   ]
  },
  {
   "cell_type": "code",
   "execution_count": 6,
   "metadata": {
    "collapsed": true
   },
   "outputs": [],
   "source": [
    "# Create feature matrix and label vectors\n",
    "feature_cols = train_df['comment_text']\n",
    "labels_cols = ['toxic', 'severe_toxic', 'obscene', 'threat', 'insult', 'identity_hate']\n",
    "\n",
    "labels = train_df[labels_cols]\n",
    "\n",
    "\n",
    "X = feature_cols\n",
    "Y = labels\n"
   ]
  },
  {
   "cell_type": "code",
   "execution_count": 7,
   "metadata": {},
   "outputs": [
    {
     "data": {
      "text/plain": [
       "(31915, 6)"
      ]
     },
     "execution_count": 7,
     "metadata": {},
     "output_type": "execute_result"
    }
   ],
   "source": [
    "#Split data\n",
    "from sklearn.model_selection import train_test_split\n",
    "X_train, X_test, y_train, y_test = train_test_split(X, Y, test_size= 0.2, random_state=5)\n",
    "X_train.shape\n",
    "y_train.shape\n",
    "X_test.shape\n",
    "y_test.shape"
   ]
  },
  {
   "cell_type": "code",
   "execution_count": 8,
   "metadata": {},
   "outputs": [],
   "source": [
    "from sklearn.feature_extraction.text import CountVectorizer\n",
    "\n",
    "#Use count vectorizer to create bag of words\n",
    "count_vect = CountVectorizer(stop_words = 'english', analyzer = 'word', ngram_range=(1, 1), max_features = 100000)\n",
    "\n",
    "\n",
    "# Fit data to create bag of words\n",
    "X_train_vect = count_vect.fit_transform(X_train)\n",
    "X_test_vect = count_vect.transform(X_test)\n",
    "\n"
   ]
  },
  {
   "cell_type": "code",
   "execution_count": 27,
   "metadata": {},
   "outputs": [
    {
     "name": "stdout",
     "output_type": "stream",
     "text": [
      "Iteration 1, loss = 0.63912471\n",
      "Iteration 2, loss = 0.32642824\n",
      "Iteration 3, loss = 0.25300952\n",
      "Iteration 4, loss = 0.20842621\n",
      "Iteration 5, loss = 0.17432438\n",
      "Iteration 6, loss = 0.14744094\n",
      "Iteration 7, loss = 0.12669288\n",
      "Iteration 8, loss = 0.11006239\n",
      "Iteration 9, loss = 0.09721070\n",
      "Iteration 10, loss = 0.08618837\n",
      "Iteration 11, loss = 0.07754914\n",
      "Iteration 12, loss = 0.07035574\n",
      "Iteration 13, loss = 0.06455374\n",
      "Iteration 14, loss = 0.05959770\n",
      "Iteration 15, loss = 0.05552926\n",
      "Iteration 16, loss = 0.05215629\n",
      "Iteration 17, loss = 0.04921846\n",
      "Iteration 18, loss = 0.04667350\n",
      "Iteration 19, loss = 0.04416094\n",
      "Iteration 20, loss = 0.04242514\n",
      "Iteration 21, loss = 0.04061791\n",
      "Iteration 22, loss = 0.03933532\n",
      "Iteration 23, loss = 0.03778386\n",
      "Iteration 24, loss = 0.03650770\n",
      "Iteration 25, loss = 0.03515578\n",
      "Iteration 26, loss = 0.03392697\n",
      "Iteration 27, loss = 0.03297925\n",
      "Iteration 28, loss = 0.03211845\n",
      "Iteration 29, loss = 0.03150423\n",
      "Iteration 30, loss = 0.03060206\n",
      "Iteration 31, loss = 0.03002427\n",
      "Iteration 32, loss = 0.02912126\n",
      "Iteration 33, loss = 0.02862174\n",
      "Iteration 34, loss = 0.02793759\n",
      "Iteration 35, loss = 0.02721599\n",
      "Iteration 36, loss = 0.02647813\n",
      "Iteration 37, loss = 0.02609593\n",
      "Iteration 38, loss = 0.02575414\n",
      "Iteration 39, loss = 0.02522354\n",
      "Iteration 40, loss = 0.02470215\n",
      "Iteration 41, loss = 0.02407172\n",
      "Iteration 42, loss = 0.02400372\n",
      "Iteration 43, loss = 0.02336360\n",
      "Iteration 44, loss = 0.02313326\n",
      "Iteration 45, loss = 0.02257370\n",
      "Iteration 46, loss = 0.02221398\n",
      "Iteration 47, loss = 0.02169310\n",
      "Iteration 48, loss = 0.02152563\n",
      "Iteration 49, loss = 0.02100606\n",
      "Iteration 50, loss = 0.02060569\n",
      "Iteration 51, loss = 0.02016546\n",
      "Iteration 52, loss = 0.01993669\n",
      "Iteration 53, loss = 0.01966113\n",
      "Iteration 54, loss = 0.01977158\n",
      "Iteration 55, loss = 0.01907182\n",
      "Iteration 56, loss = 0.01887616\n",
      "Iteration 57, loss = 0.01879985\n",
      "Iteration 58, loss = 0.01847132\n",
      "Iteration 59, loss = 0.01784224\n",
      "Iteration 60, loss = 0.01787487\n",
      "Iteration 61, loss = 0.01767961\n",
      "Iteration 62, loss = 0.01734427\n",
      "Iteration 63, loss = 0.01694064\n",
      "Iteration 64, loss = 0.01674351\n",
      "Iteration 65, loss = 0.01657702\n",
      "Iteration 66, loss = 0.01642041\n",
      "Iteration 67, loss = 0.01637114\n",
      "Iteration 68, loss = 0.01592477\n",
      "Iteration 69, loss = 0.01579311\n",
      "Iteration 70, loss = 0.01533338\n",
      "Iteration 71, loss = 0.01541413\n",
      "Iteration 72, loss = 0.01527201\n",
      "Iteration 73, loss = 0.01515492\n",
      "Iteration 74, loss = 0.01506910\n",
      "Iteration 75, loss = 0.01488651\n",
      "Iteration 76, loss = 0.01456219\n",
      "Iteration 77, loss = 0.01459482\n",
      "Iteration 78, loss = 0.01439869\n",
      "Iteration 79, loss = 0.01441236\n",
      "Iteration 80, loss = 0.01406448\n",
      "Iteration 81, loss = 0.01436364\n",
      "0.900673664421\n"
     ]
    },
    {
     "name": "stderr",
     "output_type": "stream",
     "text": [
      "C:\\Users\\Nikko\\Anaconda3\\lib\\site-packages\\sklearn\\neural_network\\multilayer_perceptron.py:565: UserWarning: Training interrupted by user.\n",
      "  warnings.warn(\"Training interrupted by user.\")\n"
     ]
    }
   ],
   "source": [
    "from sklearn.neural_network import MLPClassifier\n",
    "\n",
    "\n",
    "#create ANN classifier\n",
    "my_ANN = MLPClassifier(hidden_layer_sizes=(64,), activation= 'logistic', \n",
    "                       solver='adam', alpha=1e-5, random_state=1, \n",
    "                       learning_rate_init = 0.002, verbose = True)\n",
    "\n",
    "#Train ANN with split data\n",
    "my_ANN.fit(X_train_vect, y_train)\n",
    "y_predict_ann = my_ANN.predict(X_test_vect)\n",
    "\n",
    "#Compare prediction with actual\n",
    "score_ann = accuracy_score(y_test, y_predict_ann)\n",
    "print(score_ann)\n",
    "\n",
    "\n"
   ]
  },
  {
   "cell_type": "code",
   "execution_count": 42,
   "metadata": {},
   "outputs": [
    {
     "name": "stdout",
     "output_type": "stream",
     "text": [
      "building tree 1 of 100\n",
      "[Parallel(n_jobs=1)]: Done   1 out of   1 | elapsed:   14.8s remaining:    0.0s\n",
      "building tree 2 of 100\n",
      "[Parallel(n_jobs=1)]: Done   2 out of   2 | elapsed:   29.0s remaining:    0.0s\n",
      "building tree 3 of 100\n",
      "[Parallel(n_jobs=1)]: Done   3 out of   3 | elapsed:   43.4s remaining:    0.0s\n",
      "building tree 4 of 100\n",
      "[Parallel(n_jobs=1)]: Done   4 out of   4 | elapsed:   57.9s remaining:    0.0s\n",
      "building tree 5 of 100\n",
      "[Parallel(n_jobs=1)]: Done   5 out of   5 | elapsed:  1.2min remaining:    0.0s\n",
      "building tree 6 of 100\n",
      "[Parallel(n_jobs=1)]: Done   6 out of   6 | elapsed:  1.5min remaining:    0.0s\n",
      "building tree 7 of 100\n",
      "[Parallel(n_jobs=1)]: Done   7 out of   7 | elapsed:  1.7min remaining:    0.0s\n",
      "building tree 8 of 100\n",
      "[Parallel(n_jobs=1)]: Done   8 out of   8 | elapsed:  2.0min remaining:    0.0s\n",
      "building tree 9 of 100\n",
      "[Parallel(n_jobs=1)]: Done   9 out of   9 | elapsed:  2.2min remaining:    0.0s\n",
      "building tree 10 of 100\n",
      "[Parallel(n_jobs=1)]: Done  10 out of  10 | elapsed:  2.5min remaining:    0.0s\n",
      "building tree 11 of 100\n",
      "[Parallel(n_jobs=1)]: Done  11 out of  11 | elapsed:  2.7min remaining:    0.0s\n",
      "building tree 12 of 100\n",
      "[Parallel(n_jobs=1)]: Done  12 out of  12 | elapsed:  2.9min remaining:    0.0s\n",
      "building tree 13 of 100\n",
      "[Parallel(n_jobs=1)]: Done  13 out of  13 | elapsed:  3.2min remaining:    0.0s\n",
      "building tree 14 of 100\n",
      "[Parallel(n_jobs=1)]: Done  14 out of  14 | elapsed:  3.4min remaining:    0.0s\n",
      "building tree 15 of 100\n",
      "[Parallel(n_jobs=1)]: Done  15 out of  15 | elapsed:  3.6min remaining:    0.0s\n",
      "building tree 16 of 100\n",
      "[Parallel(n_jobs=1)]: Done  16 out of  16 | elapsed:  3.9min remaining:    0.0s\n",
      "building tree 17 of 100\n",
      "[Parallel(n_jobs=1)]: Done  17 out of  17 | elapsed:  4.2min remaining:    0.0s\n",
      "building tree 18 of 100\n",
      "[Parallel(n_jobs=1)]: Done  18 out of  18 | elapsed:  4.4min remaining:    0.0s\n",
      "building tree 19 of 100\n",
      "[Parallel(n_jobs=1)]: Done  19 out of  19 | elapsed:  4.6min remaining:    0.0s\n",
      "building tree 20 of 100\n",
      "[Parallel(n_jobs=1)]: Done  20 out of  20 | elapsed:  4.9min remaining:    0.0s\n",
      "building tree 21 of 100\n",
      "[Parallel(n_jobs=1)]: Done  21 out of  21 | elapsed:  5.1min remaining:    0.0s\n",
      "building tree 22 of 100\n",
      "[Parallel(n_jobs=1)]: Done  22 out of  22 | elapsed:  5.4min remaining:    0.0s\n",
      "building tree 23 of 100\n",
      "[Parallel(n_jobs=1)]: Done  23 out of  23 | elapsed:  5.6min remaining:    0.0s\n",
      "building tree 24 of 100\n",
      "[Parallel(n_jobs=1)]: Done  24 out of  24 | elapsed:  5.8min remaining:    0.0s\n",
      "building tree 25 of 100\n",
      "[Parallel(n_jobs=1)]: Done  25 out of  25 | elapsed:  6.1min remaining:    0.0s\n",
      "building tree 26 of 100\n",
      "[Parallel(n_jobs=1)]: Done  26 out of  26 | elapsed:  6.3min remaining:    0.0s\n",
      "building tree 27 of 100\n",
      "[Parallel(n_jobs=1)]: Done  27 out of  27 | elapsed:  6.6min remaining:    0.0s\n",
      "building tree 28 of 100\n",
      "[Parallel(n_jobs=1)]: Done  28 out of  28 | elapsed:  6.8min remaining:    0.0s\n",
      "building tree 29 of 100\n",
      "[Parallel(n_jobs=1)]: Done  29 out of  29 | elapsed:  7.0min remaining:    0.0s\n",
      "building tree 30 of 100\n",
      "[Parallel(n_jobs=1)]: Done  30 out of  30 | elapsed:  7.3min remaining:    0.0s\n",
      "building tree 31 of 100\n",
      "[Parallel(n_jobs=1)]: Done  31 out of  31 | elapsed:  7.5min remaining:    0.0s\n",
      "building tree 32 of 100\n",
      "[Parallel(n_jobs=1)]: Done  32 out of  32 | elapsed:  7.7min remaining:    0.0s\n",
      "building tree 33 of 100\n",
      "[Parallel(n_jobs=1)]: Done  33 out of  33 | elapsed:  8.0min remaining:    0.0s\n",
      "building tree 34 of 100\n",
      "[Parallel(n_jobs=1)]: Done  34 out of  34 | elapsed:  8.2min remaining:    0.0s\n",
      "building tree 35 of 100\n",
      "[Parallel(n_jobs=1)]: Done  35 out of  35 | elapsed:  8.5min remaining:    0.0s\n",
      "building tree 36 of 100\n",
      "[Parallel(n_jobs=1)]: Done  36 out of  36 | elapsed:  8.7min remaining:    0.0s\n",
      "building tree 37 of 100\n",
      "[Parallel(n_jobs=1)]: Done  37 out of  37 | elapsed:  8.9min remaining:    0.0s\n",
      "building tree 38 of 100\n",
      "[Parallel(n_jobs=1)]: Done  38 out of  38 | elapsed:  9.2min remaining:    0.0s\n",
      "building tree 39 of 100\n",
      "[Parallel(n_jobs=1)]: Done  39 out of  39 | elapsed:  9.4min remaining:    0.0s\n",
      "building tree 40 of 100\n",
      "[Parallel(n_jobs=1)]: Done  40 out of  40 | elapsed:  9.7min remaining:    0.0s\n",
      "building tree 41 of 100\n",
      "[Parallel(n_jobs=1)]: Done  41 out of  41 | elapsed:  9.9min remaining:    0.0s\n",
      "building tree 42 of 100\n",
      "[Parallel(n_jobs=1)]: Done  42 out of  42 | elapsed: 10.1min remaining:    0.0s\n",
      "building tree 43 of 100\n",
      "[Parallel(n_jobs=1)]: Done  43 out of  43 | elapsed: 10.4min remaining:    0.0s\n",
      "building tree 44 of 100\n",
      "[Parallel(n_jobs=1)]: Done  44 out of  44 | elapsed: 10.6min remaining:    0.0s\n",
      "building tree 45 of 100\n",
      "[Parallel(n_jobs=1)]: Done  45 out of  45 | elapsed: 10.8min remaining:    0.0s\n",
      "building tree 46 of 100\n",
      "[Parallel(n_jobs=1)]: Done  46 out of  46 | elapsed: 11.1min remaining:    0.0s\n",
      "building tree 47 of 100\n",
      "[Parallel(n_jobs=1)]: Done  47 out of  47 | elapsed: 11.4min remaining:    0.0s\n",
      "building tree 48 of 100\n",
      "[Parallel(n_jobs=1)]: Done  48 out of  48 | elapsed: 11.6min remaining:    0.0s\n",
      "building tree 49 of 100\n",
      "[Parallel(n_jobs=1)]: Done  49 out of  49 | elapsed: 11.8min remaining:    0.0s\n",
      "building tree 50 of 100\n",
      "[Parallel(n_jobs=1)]: Done  50 out of  50 | elapsed: 12.1min remaining:    0.0s\n",
      "building tree 51 of 100\n",
      "[Parallel(n_jobs=1)]: Done  51 out of  51 | elapsed: 12.3min remaining:    0.0s\n",
      "building tree 52 of 100\n",
      "[Parallel(n_jobs=1)]: Done  52 out of  52 | elapsed: 12.6min remaining:    0.0s\n",
      "building tree 53 of 100\n",
      "[Parallel(n_jobs=1)]: Done  53 out of  53 | elapsed: 12.8min remaining:    0.0s\n",
      "building tree 54 of 100\n",
      "[Parallel(n_jobs=1)]: Done  54 out of  54 | elapsed: 13.0min remaining:    0.0s\n",
      "building tree 55 of 100\n",
      "[Parallel(n_jobs=1)]: Done  55 out of  55 | elapsed: 13.3min remaining:    0.0s\n",
      "building tree 56 of 100\n",
      "[Parallel(n_jobs=1)]: Done  56 out of  56 | elapsed: 13.6min remaining:    0.0s\n",
      "building tree 57 of 100\n",
      "[Parallel(n_jobs=1)]: Done  57 out of  57 | elapsed: 13.8min remaining:    0.0s\n",
      "building tree 58 of 100\n",
      "[Parallel(n_jobs=1)]: Done  58 out of  58 | elapsed: 14.0min remaining:    0.0s\n",
      "building tree 59 of 100\n",
      "[Parallel(n_jobs=1)]: Done  59 out of  59 | elapsed: 14.3min remaining:    0.0s\n",
      "building tree 60 of 100\n",
      "[Parallel(n_jobs=1)]: Done  60 out of  60 | elapsed: 14.5min remaining:    0.0s\n",
      "building tree 61 of 100\n",
      "[Parallel(n_jobs=1)]: Done  61 out of  61 | elapsed: 14.8min remaining:    0.0s\n",
      "building tree 62 of 100\n",
      "[Parallel(n_jobs=1)]: Done  62 out of  62 | elapsed: 15.0min remaining:    0.0s\n",
      "building tree 63 of 100\n",
      "[Parallel(n_jobs=1)]: Done  63 out of  63 | elapsed: 15.2min remaining:    0.0s\n",
      "building tree 64 of 100\n",
      "[Parallel(n_jobs=1)]: Done  64 out of  64 | elapsed: 15.5min remaining:    0.0s\n",
      "building tree 65 of 100\n",
      "[Parallel(n_jobs=1)]: Done  65 out of  65 | elapsed: 15.7min remaining:    0.0s\n",
      "building tree 66 of 100\n",
      "[Parallel(n_jobs=1)]: Done  66 out of  66 | elapsed: 15.9min remaining:    0.0s\n",
      "building tree 67 of 100\n",
      "[Parallel(n_jobs=1)]: Done  67 out of  67 | elapsed: 16.2min remaining:    0.0s\n",
      "building tree 68 of 100\n",
      "[Parallel(n_jobs=1)]: Done  68 out of  68 | elapsed: 16.4min remaining:    0.0s\n",
      "building tree 69 of 100\n",
      "[Parallel(n_jobs=1)]: Done  69 out of  69 | elapsed: 16.7min remaining:    0.0s\n",
      "building tree 70 of 100\n",
      "[Parallel(n_jobs=1)]: Done  70 out of  70 | elapsed: 17.0min remaining:    0.0s\n",
      "building tree 71 of 100\n",
      "[Parallel(n_jobs=1)]: Done  71 out of  71 | elapsed: 17.2min remaining:    0.0s\n",
      "building tree 72 of 100\n",
      "[Parallel(n_jobs=1)]: Done  72 out of  72 | elapsed: 17.4min remaining:    0.0s\n",
      "building tree 73 of 100\n",
      "[Parallel(n_jobs=1)]: Done  73 out of  73 | elapsed: 17.7min remaining:    0.0s\n",
      "building tree 74 of 100\n",
      "[Parallel(n_jobs=1)]: Done  74 out of  74 | elapsed: 17.9min remaining:    0.0s\n",
      "building tree 75 of 100\n",
      "[Parallel(n_jobs=1)]: Done  75 out of  75 | elapsed: 18.2min remaining:    0.0s\n",
      "building tree 76 of 100\n",
      "[Parallel(n_jobs=1)]: Done  76 out of  76 | elapsed: 18.4min remaining:    0.0s\n",
      "building tree 77 of 100\n",
      "[Parallel(n_jobs=1)]: Done  77 out of  77 | elapsed: 18.7min remaining:    0.0s\n",
      "building tree 78 of 100\n",
      "[Parallel(n_jobs=1)]: Done  78 out of  78 | elapsed: 19.0min remaining:    0.0s\n",
      "building tree 79 of 100\n",
      "[Parallel(n_jobs=1)]: Done  79 out of  79 | elapsed: 19.3min remaining:    0.0s\n",
      "building tree 80 of 100\n"
     ]
    },
    {
     "name": "stdout",
     "output_type": "stream",
     "text": [
      "[Parallel(n_jobs=1)]: Done  80 out of  80 | elapsed: 19.5min remaining:    0.0s\n",
      "building tree 81 of 100\n",
      "[Parallel(n_jobs=1)]: Done  81 out of  81 | elapsed: 19.8min remaining:    0.0s\n",
      "building tree 82 of 100\n",
      "[Parallel(n_jobs=1)]: Done  82 out of  82 | elapsed: 20.0min remaining:    0.0s\n",
      "building tree 83 of 100\n",
      "[Parallel(n_jobs=1)]: Done  83 out of  83 | elapsed: 20.3min remaining:    0.0s\n",
      "building tree 84 of 100\n",
      "[Parallel(n_jobs=1)]: Done  84 out of  84 | elapsed: 20.6min remaining:    0.0s\n",
      "building tree 85 of 100\n",
      "[Parallel(n_jobs=1)]: Done  85 out of  85 | elapsed: 20.9min remaining:    0.0s\n",
      "building tree 86 of 100\n",
      "[Parallel(n_jobs=1)]: Done  86 out of  86 | elapsed: 21.1min remaining:    0.0s\n",
      "building tree 87 of 100\n",
      "[Parallel(n_jobs=1)]: Done  87 out of  87 | elapsed: 21.4min remaining:    0.0s\n",
      "building tree 88 of 100\n",
      "[Parallel(n_jobs=1)]: Done  88 out of  88 | elapsed: 21.6min remaining:    0.0s\n",
      "building tree 89 of 100\n",
      "[Parallel(n_jobs=1)]: Done  89 out of  89 | elapsed: 21.9min remaining:    0.0s\n",
      "building tree 90 of 100\n",
      "[Parallel(n_jobs=1)]: Done  90 out of  90 | elapsed: 22.2min remaining:    0.0s\n",
      "building tree 91 of 100\n",
      "[Parallel(n_jobs=1)]: Done  91 out of  91 | elapsed: 22.5min remaining:    0.0s\n",
      "building tree 92 of 100\n",
      "[Parallel(n_jobs=1)]: Done  92 out of  92 | elapsed: 22.7min remaining:    0.0s\n",
      "building tree 93 of 100\n",
      "[Parallel(n_jobs=1)]: Done  93 out of  93 | elapsed: 23.0min remaining:    0.0s\n",
      "building tree 94 of 100\n",
      "[Parallel(n_jobs=1)]: Done  94 out of  94 | elapsed: 23.3min remaining:    0.0s\n",
      "building tree 95 of 100\n",
      "[Parallel(n_jobs=1)]: Done  95 out of  95 | elapsed: 23.6min remaining:    0.0s\n",
      "building tree 96 of 100\n",
      "[Parallel(n_jobs=1)]: Done  96 out of  96 | elapsed: 23.8min remaining:    0.0s\n",
      "building tree 97 of 100\n",
      "[Parallel(n_jobs=1)]: Done  97 out of  97 | elapsed: 24.1min remaining:    0.0s\n",
      "building tree 98 of 100\n",
      "[Parallel(n_jobs=1)]: Done  98 out of  98 | elapsed: 24.4min remaining:    0.0s\n",
      "building tree 99 of 100\n",
      "[Parallel(n_jobs=1)]: Done  99 out of  99 | elapsed: 24.6min remaining:    0.0s\n",
      "building tree 100 of 100\n",
      "[Parallel(n_jobs=1)]: Done 100 out of 100 | elapsed: 24.8min finished\n",
      "[Parallel(n_jobs=1)]: Done   1 out of   1 | elapsed:    0.0s remaining:    0.0s\n",
      "[Parallel(n_jobs=1)]: Done   2 out of   2 | elapsed:    0.0s remaining:    0.0s\n",
      "[Parallel(n_jobs=1)]: Done   3 out of   3 | elapsed:    0.1s remaining:    0.0s\n",
      "[Parallel(n_jobs=1)]: Done   4 out of   4 | elapsed:    0.2s remaining:    0.0s\n",
      "[Parallel(n_jobs=1)]: Done   5 out of   5 | elapsed:    0.3s remaining:    0.0s\n",
      "[Parallel(n_jobs=1)]: Done   6 out of   6 | elapsed:    0.4s remaining:    0.0s\n",
      "[Parallel(n_jobs=1)]: Done   7 out of   7 | elapsed:    0.4s remaining:    0.0s\n",
      "[Parallel(n_jobs=1)]: Done   8 out of   8 | elapsed:    0.5s remaining:    0.0s\n",
      "[Parallel(n_jobs=1)]: Done   9 out of   9 | elapsed:    0.6s remaining:    0.0s\n",
      "[Parallel(n_jobs=1)]: Done  10 out of  10 | elapsed:    0.7s remaining:    0.0s\n",
      "[Parallel(n_jobs=1)]: Done  11 out of  11 | elapsed:    0.7s remaining:    0.0s\n",
      "[Parallel(n_jobs=1)]: Done  12 out of  12 | elapsed:    0.8s remaining:    0.0s\n",
      "[Parallel(n_jobs=1)]: Done  13 out of  13 | elapsed:    0.9s remaining:    0.0s\n",
      "[Parallel(n_jobs=1)]: Done  14 out of  14 | elapsed:    0.9s remaining:    0.0s\n",
      "[Parallel(n_jobs=1)]: Done  15 out of  15 | elapsed:    1.0s remaining:    0.0s\n",
      "[Parallel(n_jobs=1)]: Done  16 out of  16 | elapsed:    1.1s remaining:    0.0s\n",
      "[Parallel(n_jobs=1)]: Done  17 out of  17 | elapsed:    1.2s remaining:    0.0s\n",
      "[Parallel(n_jobs=1)]: Done  18 out of  18 | elapsed:    1.2s remaining:    0.0s\n",
      "[Parallel(n_jobs=1)]: Done  19 out of  19 | elapsed:    1.3s remaining:    0.0s\n",
      "[Parallel(n_jobs=1)]: Done  20 out of  20 | elapsed:    1.4s remaining:    0.0s\n",
      "[Parallel(n_jobs=1)]: Done  21 out of  21 | elapsed:    1.4s remaining:    0.0s\n",
      "[Parallel(n_jobs=1)]: Done  22 out of  22 | elapsed:    1.5s remaining:    0.0s\n",
      "[Parallel(n_jobs=1)]: Done  23 out of  23 | elapsed:    1.6s remaining:    0.0s\n",
      "[Parallel(n_jobs=1)]: Done  24 out of  24 | elapsed:    1.7s remaining:    0.0s\n",
      "[Parallel(n_jobs=1)]: Done  25 out of  25 | elapsed:    1.7s remaining:    0.0s\n",
      "[Parallel(n_jobs=1)]: Done  26 out of  26 | elapsed:    1.8s remaining:    0.0s\n",
      "[Parallel(n_jobs=1)]: Done  27 out of  27 | elapsed:    1.9s remaining:    0.0s\n",
      "[Parallel(n_jobs=1)]: Done  28 out of  28 | elapsed:    2.0s remaining:    0.0s\n",
      "[Parallel(n_jobs=1)]: Done  29 out of  29 | elapsed:    2.0s remaining:    0.0s\n",
      "[Parallel(n_jobs=1)]: Done  30 out of  30 | elapsed:    2.1s remaining:    0.0s\n",
      "[Parallel(n_jobs=1)]: Done  31 out of  31 | elapsed:    2.2s remaining:    0.0s\n",
      "[Parallel(n_jobs=1)]: Done  32 out of  32 | elapsed:    2.3s remaining:    0.0s\n",
      "[Parallel(n_jobs=1)]: Done  33 out of  33 | elapsed:    2.4s remaining:    0.0s\n",
      "[Parallel(n_jobs=1)]: Done  34 out of  34 | elapsed:    2.4s remaining:    0.0s\n",
      "[Parallel(n_jobs=1)]: Done  35 out of  35 | elapsed:    2.5s remaining:    0.0s\n",
      "[Parallel(n_jobs=1)]: Done  36 out of  36 | elapsed:    2.6s remaining:    0.0s\n",
      "[Parallel(n_jobs=1)]: Done  37 out of  37 | elapsed:    2.7s remaining:    0.0s\n",
      "[Parallel(n_jobs=1)]: Done  38 out of  38 | elapsed:    2.7s remaining:    0.0s\n",
      "[Parallel(n_jobs=1)]: Done  39 out of  39 | elapsed:    2.8s remaining:    0.0s\n",
      "[Parallel(n_jobs=1)]: Done  40 out of  40 | elapsed:    2.9s remaining:    0.0s\n",
      "[Parallel(n_jobs=1)]: Done  41 out of  41 | elapsed:    2.9s remaining:    0.0s\n",
      "[Parallel(n_jobs=1)]: Done  42 out of  42 | elapsed:    3.0s remaining:    0.0s\n",
      "[Parallel(n_jobs=1)]: Done  43 out of  43 | elapsed:    3.1s remaining:    0.0s\n",
      "[Parallel(n_jobs=1)]: Done  44 out of  44 | elapsed:    3.2s remaining:    0.0s\n",
      "[Parallel(n_jobs=1)]: Done  45 out of  45 | elapsed:    3.2s remaining:    0.0s\n",
      "[Parallel(n_jobs=1)]: Done  46 out of  46 | elapsed:    3.3s remaining:    0.0s\n",
      "[Parallel(n_jobs=1)]: Done  47 out of  47 | elapsed:    3.4s remaining:    0.0s\n",
      "[Parallel(n_jobs=1)]: Done  48 out of  48 | elapsed:    3.5s remaining:    0.0s\n",
      "[Parallel(n_jobs=1)]: Done  49 out of  49 | elapsed:    3.6s remaining:    0.0s\n",
      "[Parallel(n_jobs=1)]: Done  50 out of  50 | elapsed:    3.6s remaining:    0.0s\n",
      "[Parallel(n_jobs=1)]: Done  51 out of  51 | elapsed:    3.7s remaining:    0.0s\n",
      "[Parallel(n_jobs=1)]: Done  52 out of  52 | elapsed:    3.8s remaining:    0.0s\n",
      "[Parallel(n_jobs=1)]: Done  53 out of  53 | elapsed:    3.8s remaining:    0.0s\n",
      "[Parallel(n_jobs=1)]: Done  54 out of  54 | elapsed:    3.9s remaining:    0.0s\n",
      "[Parallel(n_jobs=1)]: Done  55 out of  55 | elapsed:    4.0s remaining:    0.0s\n",
      "[Parallel(n_jobs=1)]: Done  56 out of  56 | elapsed:    4.1s remaining:    0.0s\n",
      "[Parallel(n_jobs=1)]: Done  57 out of  57 | elapsed:    4.2s remaining:    0.0s\n",
      "[Parallel(n_jobs=1)]: Done  58 out of  58 | elapsed:    4.2s remaining:    0.0s\n",
      "[Parallel(n_jobs=1)]: Done  59 out of  59 | elapsed:    4.3s remaining:    0.0s\n",
      "[Parallel(n_jobs=1)]: Done  60 out of  60 | elapsed:    4.4s remaining:    0.0s\n",
      "[Parallel(n_jobs=1)]: Done  61 out of  61 | elapsed:    4.5s remaining:    0.0s\n",
      "[Parallel(n_jobs=1)]: Done  62 out of  62 | elapsed:    4.5s remaining:    0.0s\n",
      "[Parallel(n_jobs=1)]: Done  63 out of  63 | elapsed:    4.6s remaining:    0.0s\n",
      "[Parallel(n_jobs=1)]: Done  64 out of  64 | elapsed:    4.7s remaining:    0.0s\n",
      "[Parallel(n_jobs=1)]: Done  65 out of  65 | elapsed:    4.8s remaining:    0.0s\n",
      "[Parallel(n_jobs=1)]: Done  66 out of  66 | elapsed:    4.8s remaining:    0.0s\n",
      "[Parallel(n_jobs=1)]: Done  67 out of  67 | elapsed:    4.9s remaining:    0.0s\n",
      "[Parallel(n_jobs=1)]: Done  68 out of  68 | elapsed:    5.0s remaining:    0.0s\n",
      "[Parallel(n_jobs=1)]: Done  69 out of  69 | elapsed:    5.1s remaining:    0.0s\n",
      "[Parallel(n_jobs=1)]: Done  70 out of  70 | elapsed:    5.1s remaining:    0.0s\n",
      "[Parallel(n_jobs=1)]: Done  71 out of  71 | elapsed:    5.2s remaining:    0.0s\n",
      "[Parallel(n_jobs=1)]: Done  72 out of  72 | elapsed:    5.3s remaining:    0.0s\n",
      "[Parallel(n_jobs=1)]: Done  73 out of  73 | elapsed:    5.3s remaining:    0.0s\n",
      "[Parallel(n_jobs=1)]: Done  74 out of  74 | elapsed:    5.4s remaining:    0.0s\n",
      "[Parallel(n_jobs=1)]: Done  75 out of  75 | elapsed:    5.5s remaining:    0.0s\n",
      "[Parallel(n_jobs=1)]: Done  76 out of  76 | elapsed:    5.6s remaining:    0.0s\n",
      "[Parallel(n_jobs=1)]: Done  77 out of  77 | elapsed:    5.6s remaining:    0.0s\n"
     ]
    },
    {
     "name": "stdout",
     "output_type": "stream",
     "text": [
      "[Parallel(n_jobs=1)]: Done  78 out of  78 | elapsed:    5.7s remaining:    0.0s\n",
      "[Parallel(n_jobs=1)]: Done  79 out of  79 | elapsed:    5.8s remaining:    0.0s\n",
      "[Parallel(n_jobs=1)]: Done  80 out of  80 | elapsed:    5.9s remaining:    0.0s\n",
      "[Parallel(n_jobs=1)]: Done  81 out of  81 | elapsed:    6.0s remaining:    0.0s\n",
      "[Parallel(n_jobs=1)]: Done  82 out of  82 | elapsed:    6.1s remaining:    0.0s\n",
      "[Parallel(n_jobs=1)]: Done  83 out of  83 | elapsed:    6.2s remaining:    0.0s\n",
      "[Parallel(n_jobs=1)]: Done  84 out of  84 | elapsed:    6.3s remaining:    0.0s\n",
      "[Parallel(n_jobs=1)]: Done  85 out of  85 | elapsed:    6.3s remaining:    0.0s\n",
      "[Parallel(n_jobs=1)]: Done  86 out of  86 | elapsed:    6.4s remaining:    0.0s\n",
      "[Parallel(n_jobs=1)]: Done  87 out of  87 | elapsed:    6.5s remaining:    0.0s\n",
      "[Parallel(n_jobs=1)]: Done  88 out of  88 | elapsed:    6.6s remaining:    0.0s\n",
      "[Parallel(n_jobs=1)]: Done  89 out of  89 | elapsed:    6.6s remaining:    0.0s\n",
      "[Parallel(n_jobs=1)]: Done  90 out of  90 | elapsed:    6.7s remaining:    0.0s\n",
      "[Parallel(n_jobs=1)]: Done  91 out of  91 | elapsed:    6.8s remaining:    0.0s\n",
      "[Parallel(n_jobs=1)]: Done  92 out of  92 | elapsed:    6.9s remaining:    0.0s\n",
      "[Parallel(n_jobs=1)]: Done  93 out of  93 | elapsed:    6.9s remaining:    0.0s\n",
      "[Parallel(n_jobs=1)]: Done  94 out of  94 | elapsed:    7.0s remaining:    0.0s\n",
      "[Parallel(n_jobs=1)]: Done  95 out of  95 | elapsed:    7.1s remaining:    0.0s\n",
      "[Parallel(n_jobs=1)]: Done  96 out of  96 | elapsed:    7.1s remaining:    0.0s\n",
      "[Parallel(n_jobs=1)]: Done  97 out of  97 | elapsed:    7.2s remaining:    0.0s\n",
      "[Parallel(n_jobs=1)]: Done  98 out of  98 | elapsed:    7.3s remaining:    0.0s\n",
      "[Parallel(n_jobs=1)]: Done  99 out of  99 | elapsed:    7.4s remaining:    0.0s\n",
      "[Parallel(n_jobs=1)]: Done 100 out of 100 | elapsed:    7.5s finished\n",
      "0.914366285446\n"
     ]
    }
   ],
   "source": [
    "from sklearn.ensemble import RandomForestClassifier\n",
    "\n",
    "# Apply Random Forest classifier \n",
    "\n",
    "my_RandomForest = RandomForestClassifier(n_estimators = 100, bootstrap = True, random_state=2, verbose = 100)\n",
    "\n",
    "my_RandomForest.fit(X_train_vect, y_train)\n",
    "\n",
    "y_predict_RF = my_RandomForest.predict(X_test_vect)\n",
    "\n",
    "score_RF = accuracy_score(y_test, y_predict_RF)\n",
    "print(score_RF)\n"
   ]
  },
  {
   "cell_type": "code",
   "execution_count": 20,
   "metadata": {},
   "outputs": [
    {
     "name": "stdout",
     "output_type": "stream",
     "text": [
      "[LibLinear]"
     ]
    },
    {
     "name": "stderr",
     "output_type": "stream",
     "text": [
      "C:\\Users\\Nikko\\Anaconda3\\lib\\site-packages\\sklearn\\svm\\base.py:920: ConvergenceWarning: Liblinear failed to converge, increase the number of iterations.\n",
      "  \"the number of iterations.\", ConvergenceWarning)\n"
     ]
    },
    {
     "name": "stdout",
     "output_type": "stream",
     "text": [
      "\n",
      "\n",
      "toxic 0.956102\n",
      "[LibLinear]\n",
      "\n",
      "severe_toxic 0.989848\n",
      "[LibLinear]\n",
      "\n",
      "obscene 0.974463\n",
      "[LibLinear]\n",
      "\n",
      "threat 0.996867\n",
      "[LibLinear]\n",
      "\n",
      "insult 0.968447\n",
      "[LibLinear]\n",
      "\n",
      "identity_hate 0.990005\n"
     ]
    }
   ],
   "source": [
    "from sklearn.linear_model import LogisticRegression\n",
    "from sklearn.cross_validation import cross_val_score\n",
    "\n",
    "#Logistic Regression applied to each label \n",
    "\n",
    "for x in labels_cols:\n",
    "   \n",
    "    my_logreg = LogisticRegression(n_jobs=-1, verbose = 10, max_iter = 1000)\n",
    "    my_logreg.fit(X_train_vect, y_train[x])\n",
    "\n",
    "\n",
    "    resultsLR = pd.DataFrame()\n",
    "\n",
    "    y_predict_lr = my_logreg.predict(X_test_vect)\n",
    "\n",
    "    resultsLR['Actual'] = y_test[x]\n",
    "    resultsLR['Prediction'] = y_predict_lr\n",
    "    #print(resultsLR.head())\n",
    "\n",
    "    accuracyLR = accuracy_score(y_test[x], y_predict_lr)\n",
    "\n",
    "    print('\\n')\n",
    "    \n",
    "    print('%s %lf' % (x, accuracyLR))\n",
    "    "
   ]
  },
  {
   "cell_type": "code",
   "execution_count": 22,
   "metadata": {},
   "outputs": [
    {
     "name": "stderr",
     "output_type": "stream",
     "text": [
      "[Parallel(n_jobs=-1)]: Done   7 out of  10 | elapsed:  9.3min remaining:  4.0min\n",
      "[Parallel(n_jobs=-1)]: Done  10 out of  10 | elapsed: 10.7min finished\n"
     ]
    },
    {
     "name": "stdout",
     "output_type": "stream",
     "text": [
      "[ 0.95386543  0.95621524  0.95354849  0.95315682  0.95589503  0.95558167\n",
      "  0.95518997  0.95315315  0.95174305  0.95518997]\n",
      "Cross-validation accuracy: toxic 0.954354\n"
     ]
    },
    {
     "name": "stderr",
     "output_type": "stream",
     "text": [
      "[Parallel(n_jobs=-1)]: Done   7 out of  10 | elapsed: 13.1min remaining:  5.6min\n",
      "[Parallel(n_jobs=-1)]: Done  10 out of  10 | elapsed: 16.4min finished\n"
     ]
    },
    {
     "name": "stdout",
     "output_type": "stream",
     "text": [
      "[ 0.98926837  0.98966003  0.99036503  0.99020837  0.99013003  0.9895817\n",
      "  0.99012926  0.99044262  0.99005092  0.99067763]\n",
      "Cross-validation accuracy: severe_toxic 0.990051\n"
     ]
    },
    {
     "name": "stderr",
     "output_type": "stream",
     "text": [
      "[Parallel(n_jobs=-1)]: Done   7 out of  10 | elapsed:  8.8min remaining:  3.8min\n",
      "[Parallel(n_jobs=-1)]: Done  10 out of  10 | elapsed: 11.3min finished\n"
     ]
    },
    {
     "name": "stdout",
     "output_type": "stream",
     "text": [
      "[ 0.97477873  0.97689355  0.97595175  0.97375842  0.9746181   0.97673325\n",
      "  0.97438308  0.97681159  0.97649824  0.97563651]\n",
      "Cross-validation accuracy: obscene 0.975606\n"
     ]
    },
    {
     "name": "stderr",
     "output_type": "stream",
     "text": [
      "[Parallel(n_jobs=-1)]: Done   7 out of  10 | elapsed:  9.8min remaining:  4.2min\n",
      "[Parallel(n_jobs=-1)]: Done  10 out of  10 | elapsed: 12.3min finished\n"
     ]
    },
    {
     "name": "stdout",
     "output_type": "stream",
     "text": [
      "[ 0.99631863  0.99631863  0.99671001  0.99624001  0.99670975  0.99686643\n",
      "  0.99663141  0.99663141  0.9960047   0.99663141]\n",
      "Cross-validation accuracy: threat 0.996506\n"
     ]
    },
    {
     "name": "stderr",
     "output_type": "stream",
     "text": [
      "[Parallel(n_jobs=-1)]: Done   7 out of  10 | elapsed:  9.0min remaining:  3.8min\n",
      "[Parallel(n_jobs=-1)]: Done  10 out of  10 | elapsed: 11.2min finished\n"
     ]
    },
    {
     "name": "stdout",
     "output_type": "stream",
     "text": [
      "[ 0.96529845  0.96717844  0.96702178  0.96443679  0.96412345  0.96255679\n",
      "  0.96553345  0.9687451   0.96725165  0.96591977]\n",
      "Cross-validation accuracy: insult 0.965807\n"
     ]
    },
    {
     "name": "stderr",
     "output_type": "stream",
     "text": [
      "[Parallel(n_jobs=-1)]: Done   7 out of  10 | elapsed: 10.9min remaining:  4.7min\n"
     ]
    },
    {
     "name": "stdout",
     "output_type": "stream",
     "text": [
      "[ 0.98989583  0.99036579  0.99091408  0.99044262  0.99138269  0.99036428\n",
      "  0.99067763  0.99044262  0.99005092  0.99028594]\n",
      "Cross-validation accuracy: identity_hate 0.990482\n"
     ]
    },
    {
     "name": "stderr",
     "output_type": "stream",
     "text": [
      "[Parallel(n_jobs=-1)]: Done  10 out of  10 | elapsed: 13.9min finished\n"
     ]
    }
   ],
   "source": [
    "#Cross-validation for Logistic Regression\n",
    "\n",
    "my_logreg = LogisticRegression(n_jobs=-1, verbose = 10, max_iter = 1000)\n",
    "\n",
    "for x in labels_cols:\n",
    "    cv_score = 'Cross-validation accuracy: ' + x\n",
    "    accuracy_list = cross_val_score(my_logreg, X_train_vect, y_train[x], cv=10, scoring='accuracy', n_jobs=-1, verbose = 3)\n",
    "    print(accuracy_list)\n",
    "    accuracy_cv = accuracy_list.mean()\n",
    "    print('%s %lf' % (cv_score, accuracy_cv))"
   ]
  },
  {
   "cell_type": "code",
   "execution_count": 13,
   "metadata": {},
   "outputs": [
    {
     "name": "stdout",
     "output_type": "stream",
     "text": [
      "[LibLinear]"
     ]
    },
    {
     "name": "stderr",
     "output_type": "stream",
     "text": [
      "/Users/allen3just/anaconda/lib/python3.6/site-packages/sklearn/svm/base.py:920: ConvergenceWarning: Liblinear failed to converge, increase the number of iterations.\n",
      "  \"the number of iterations.\", ConvergenceWarning)\n"
     ]
    },
    {
     "name": "stdout",
     "output_type": "stream",
     "text": [
      "\n",
      "\n",
      "toxic 0.951997\n",
      "[LibLinear]\n",
      "\n",
      "severe_toxic 0.987341\n",
      "[LibLinear]\n",
      "\n",
      "obscene 0.977064\n",
      "[LibLinear]\n",
      "\n",
      "threat 0.996271\n",
      "[LibLinear]\n",
      "\n",
      "insult 0.966097\n",
      "[LibLinear]\n",
      "\n",
      "identity_hate 0.989096\n"
     ]
    }
   ],
   "source": [
    "#LinearSVC for large data instead of non-linearSVC\n",
    "from sklearn.svm import LinearSVC\n",
    "\n",
    "for x in labels_cols:\n",
    "    \n",
    "    my_SVM = LinearSVC(penalty='l2', loss='hinge', C=1.0, multi_class='ovr',  fit_intercept=True, intercept_scaling=1, class_weight=None, verbose=50, random_state=None, max_iter=1000)\n",
    "    my_SVM.fit (X_train_vect, y_train[x])\n",
    "    \n",
    "    resultsSVM = pd.DataFrame()\n",
    "    \n",
    "    y_predict_SVM = my_SVM.predict (X_test_vect)\n",
    "    \n",
    "    resultsSVM['Actual'] = y_test[x]\n",
    "    resultsSVM['Prediction'] = y_predict_SVM\n",
    "    \n",
    "\n",
    "    accuracySVM = accuracy_score(y_test[x], y_predict_SVM)\n",
    "\n",
    "    print('\\n')\n",
    "    \n",
    "    print('%s %lf' % (x, accuracySVM))"
   ]
  },
  {
   "cell_type": "code",
   "execution_count": 24,
   "metadata": {
    "collapsed": true
   },
   "outputs": [],
   "source": []
  },
  {
   "cell_type": "code",
   "execution_count": null,
   "metadata": {
    "collapsed": true
   },
   "outputs": [],
   "source": []
  }
 ],
 "metadata": {
  "kernelspec": {
   "display_name": "Python 3",
   "language": "python",
   "name": "python3"
  },
  "language_info": {
   "codemirror_mode": {
    "name": "ipython",
    "version": 3
   },
   "file_extension": ".py",
   "mimetype": "text/x-python",
   "name": "python",
   "nbconvert_exporter": "python",
   "pygments_lexer": "ipython3",
   "version": "3.6.1"
  }
 },
 "nbformat": 4,
 "nbformat_minor": 2
}
